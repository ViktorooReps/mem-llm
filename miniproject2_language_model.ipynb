{
 "nbformat": 4,
 "nbformat_minor": 0,
 "metadata": {
  "colab": {
   "provenance": [],
   "toc_visible": true
  },
  "kernelspec": {
   "name": "python3",
   "display_name": "Python 3 (ipykernel)",
   "language": "python"
  },
  "language_info": {
   "name": "python"
  }
 },
 "cells": [
  {
   "cell_type": "markdown",
   "source": [
    "# **Miniproject 2**\n",
    "## **~Large~ Small Language Model**\n",
    "\n",
    "### **Objective**\n",
    "Implement a transformer-based, character-level language model (GPT-like) and train it on the Shakespeare dataset. By the end of this project, you should be able to generate Shakespearean-like text given a seed string.\n",
    "\n",
    "You will probably want to train the model on a GPU. You can use free GPUs on [Google Colab](https://colab.research.google.com/?utm_source=scs-index)."
   ],
   "metadata": {
    "id": "--Cvru1cgwyP"
   }
  },
  {
   "cell_type": "markdown",
   "source": [
    "### **Dataset**:\n",
    "\n",
    "The Shakespeare dataset contains the complete works of William Shakespeare, including his plays, poems, and sonnets.\n",
    "\n",
    "[**Download link**](https://raw.githubusercontent.com/karpathy/char-rnn/master/data/tinyshakespeare/input.txt)\n",
    "\n",
    "In a character-level language model, each character in the input data is mapped to its respective index from a dictionary. The input to the model is in the form (B, N), where B is the batch size and N is the number of tokens for each sequence. The model was tested with B=N=128, but feel free to explore different values.\n",
    "\n",
    "An interface for the dataset class that takes care of tokenization is provided below.\n",
    "\n",
    "\n",
    "\n",
    "```python\n",
    "from torch.utils.data import Dataset\n",
    "\n",
    "class CharDataset(Dataset):\n",
    "    \"\"\"\n",
    "    Emits batches of characters.\n",
    "\n",
    "    Adapted from \"https://github.com/karpathy/minGPT\".\n",
    "    \"\"\"\n",
    "\n",
    "    def __init__(self, config, data):\n",
    "\n",
    "        chars = ... # get characters from the input data\n",
    "        self.stoi = { ch:i for i,ch in enumerate(chars) } # map characters to integer indices\n",
    "\n",
    "        ...\n",
    "\n",
    "    def get_vocab_size(self):\n",
    "        raise NotImplementedError()\n",
    "\n",
    "    def __len__(self):\n",
    "        raise NotImplementedError()\n",
    "\n",
    "    def __getitem__(self, idx):\n",
    "        # grab a chunk of (block_size + 1) characters from the data\n",
    "        # encode every character to an integer\n",
    "        # return the chunk and the shifted version as tensors\n",
    "        pass\n",
    "```\n",
    "\n",
    "\n"
   ],
   "metadata": {
    "id": "f_rT3xwrhieb"
   }
  },
  {
   "cell_type": "markdown",
   "source": [
    "### **Requirements**\n",
    "\n",
    "#### **Architecture**\n",
    "\n",
    "Implement the Transformer's decoder-only structure.\n",
    "This includes\n",
    "\n",
    "* input token embeddings\n",
    "* the causal multi-head self-attention mechanism\n",
    "* feed-forward neural networks\n",
    "* positional encodings, residual connections, layer normalizations.\n",
    "\n",
    "The project was tested with $12$ layers, $8$ attention heads, and $768$ embedding dimensions, on a single GPU.\n",
    "\n",
    "The `forward` method for the entire model has the following form:\n",
    "\n",
    "```\n",
    "tok_emb = WTE(idx) # token embeddings\n",
    "pos_emb = WPE(pos) # position embeddings\n",
    "x = Dropout(tok_emb + pos_emb)\n",
    "for Block in Blocks:\n",
    "    x = Block(x)\n",
    "x = Final_LayerNorm(x)\n",
    "logits = LM_Head(x)\n",
    "```\n",
    "\n",
    "The `forward` method for the transformer block has the following form:\n",
    "\n",
    "\n",
    "\n",
    "```\n",
    "x = x + self.CausalSelfAttn(self.LayerNorm_1(x))\n",
    "out = x + self.MLP(self.LayerNorm_2(x))\n",
    "```\n",
    "\n",
    "---\n",
    "\n",
    "#### **Training**\n",
    "\n",
    "In a character-level transformer language model, the goal is to predict the next character in a sequence given the previous characters. To train such a model effectively, we use two versions of our data: the input sequence and a shifted version of this sequence, which serves as the target for our predictions.\n",
    "\n",
    "Preprocess the dataset to a character-level representation.\n",
    "Use a sliding window approach for sequence chunks (e.g., window size of $128$ characters).\n",
    "Implement causal masking for the self-attention mechanism.\n",
    "Use the [Adam](https://pytorch.org/docs/stable/generated/torch.optim.Adam.html) optimizer and the cross-entropy loss.\n",
    "\n",
    "**Optional**:\n",
    "\n",
    "* Implement a learning rate decay strategy\n",
    "* Implement gradient clipping\n",
    "\n",
    "---\n",
    "\n",
    "\n",
    "#### **Evaluation and Inference**\n",
    "\n",
    "* Monitor the cross-entropy loss. Use a seed string to initialize the model and generate Shakespearean-like text.\n",
    "\n",
    "* In order to generate the characters, at each generation step you can either select the character with the highest probability, or you can sample according to the output distribution.\n",
    "\n",
    "The high-level pseudocode for generation is:\n",
    "\n",
    "```python\n",
    "model.eval()\n",
    "with torch.no_grad():\n",
    "    context = \"O God, O God!\"\n",
    "    tokenized_context = tokenize(context)\n",
    "    # the model should implement a method to generate tokens given a prompt\n",
    "    y = model.generate(tokenized, ...)\n",
    "    completion = tokens_to_string(y)\n",
    "```\n",
    "\n",
    "**Optional**:\n",
    "* Compute the [perplexity](https://medium.com/@priyankads/perplexity-of-language-models-41160427ed72#:~:text=Intuitively%2C%20perplexity%20means%20to%20be,loss%20obtained%20from%20the%20model.) metric for quantitative evaluation."
   ],
   "metadata": {
    "id": "VV7OAXGRhf_V"
   }
  },
  {
   "cell_type": "markdown",
   "source": [
    "### **Example Outputs**\n",
    "\n",
    "The following are my outputs after $6000$ steps of training, with the seed string \"O God, O God!\"\n",
    "\n",
    "\n",
    "\n",
    "```\n",
    "O God, O God! neither? unto the base very ears,\n",
    "As damned with it.\n",
    "\n",
    "DUKE OF YORK:\n",
    "Away! Once more, one word.\n",
    "\n",
    "RICHARD:\n",
    "Clove, dear so; and therein my son will be\n",
    "false of woe: if ye seems to be the mother\n",
    "Of gracious order this time when R going kinsperse eyes,\n",
    "What dost bewreck her fairer drying tears.\n",
    "\n",
    "NORTHUMBERLAND:\n",
    "Have you forgot the Duke of Norfolk, get him to\n",
    "again; and and agilic: there is my spirit\n",
    "So maly did must such a marble perfection.\n",
    "\n",
    "ELBOW:\n",
    "Come, bring them with oaths, and so deliver\n",
    "```\n"
   ],
   "metadata": {
    "id": "8t88Dcn8JZ8M"
   }
  },
  {
   "cell_type": "markdown",
   "source": [
    "### Resources:\n",
    "\n",
    "* Vaswani et al., \"Attention is All You Need\": [link](https://arxiv.org/abs/1706.03762)\n",
    "\n",
    "* Illustrated Transformer by Jay Alammar: [link](https://jalammar.github.io/illustrated-transformer/)\n",
    "\n",
    "* OpenAI GPT-2 Paper: [link](https://cdn.openai.com/better-language-models/language_models_are_unsupervised_multitask_learners.pdf)\n",
    "\n",
    "* Deep Learning Course slides on transformers: [link](https://fleuret.org/dlc/materials/dlc-handout-13-3-transformers.pdf)"
   ],
   "metadata": {
    "id": "k0SY7CGAhnkp"
   }
  },
  {
   "metadata": {},
   "cell_type": "markdown",
   "source": "# Dependencies"
  },
  {
   "metadata": {
    "ExecuteTime": {
     "end_time": "2024-11-12T21:15:05.746278Z",
     "start_time": "2024-11-12T21:15:05.742340Z"
    }
   },
   "cell_type": "code",
   "source": [
    "import abc\n",
    "import json\n",
    "from abc import abstractmethod\n",
    "from pathlib import Path\n",
    "\n",
    "import nltk\n",
    "import numpy as np\n",
    "import torch\n",
    "import re\n",
    "import requests\n",
    "\n",
    "from nltk.tokenize import PunktTokenizer\n",
    "from torch import nn\n",
    "from torch.nn.utils.rnn import pad_sequence\n",
    "from torch.nn.attention.flex_attention import create_block_mask, and_masks, flex_attention\n",
    "from torch.utils.data import DataLoader\n",
    "\n",
    "import matplotlib.pyplot as plt\n",
    "import seaborn as sns\n",
    "\n",
    "from typing import Iterable, TypeVar\n",
    "from itertools import chain\n",
    "\n",
    "from tqdm.auto import tqdm"
   ],
   "outputs": [],
   "execution_count": 131
  },
  {
   "metadata": {
    "ExecuteTime": {
     "end_time": "2024-11-12T16:16:11.290256Z",
     "start_time": "2024-11-12T16:16:10.813216Z"
    }
   },
   "cell_type": "code",
   "source": "nltk.download('punkt')",
   "outputs": [
    {
     "name": "stderr",
     "output_type": "stream",
     "text": [
      "[nltk_data] Downloading package punkt to /Users/Viktor/nltk_data...\n",
      "[nltk_data]   Package punkt is already up-to-date!\n"
     ]
    },
    {
     "data": {
      "text/plain": [
       "True"
      ]
     },
     "execution_count": 2,
     "metadata": {},
     "output_type": "execute_result"
    }
   ],
   "execution_count": 2
  },
  {
   "metadata": {},
   "cell_type": "markdown",
   "source": "# Implementation"
  },
  {
   "metadata": {},
   "cell_type": "markdown",
   "source": "Some interfaces that will be used:"
  },
  {
   "metadata": {
    "ExecuteTime": {
     "end_time": "2024-11-12T16:16:11.293464Z",
     "start_time": "2024-11-12T16:16:11.290956Z"
    }
   },
   "cell_type": "code",
   "source": [
    "_T = TypeVar('_T')\n",
    "\n",
    "\n",
    "class Configurable(metaclass=abc.ABCMeta):\n",
    "    @abstractmethod\n",
    "    def to_config(self):\n",
    "        pass\n",
    "    \n",
    "    @classmethod\n",
    "    def from_config(cls: _T, config: dict) -> _T:\n",
    "        return cls(**config)\n",
    "    \n",
    "    def save(self, path: str | Path) -> None:\n",
    "        config = self.to_config()\n",
    "        with open(path, 'w') as f:\n",
    "            json.dump(config, f, indent=2)\n",
    "    \n",
    "    @classmethod\n",
    "    def load(cls: _T, path: str | Path) -> _T:\n",
    "        with open(path, 'r') as f:\n",
    "            config = json.load(f)\n",
    "        \n",
    "        return cls.from_config(config)"
   ],
   "outputs": [],
   "execution_count": 3
  },
  {
   "metadata": {},
   "cell_type": "markdown",
   "source": "## Tokenization"
  },
  {
   "metadata": {},
   "cell_type": "markdown",
   "source": "For tokenization, we will just use Python's built-in `ord` function. We will reserve a fixed tokenizer size, 128 is enough for English text. Character NUL (`0`) will be used for unknown tokens. "
  },
  {
   "metadata": {
    "ExecuteTime": {
     "end_time": "2024-11-12T20:54:46.503699Z",
     "start_time": "2024-11-12T20:54:46.497764Z"
    }
   },
   "cell_type": "code",
   "source": [
    "ords = list(range(128))\n",
    "for o in ords:\n",
    "    print(f'\"{chr(o)}\"'.replace('\\n', '\\\\n').replace('\\t', '\\\\t'), end=' ')\n",
    "    if o and not o % 10:\n",
    "        print()"
   ],
   "outputs": [
    {
     "name": "stdout",
     "output_type": "stream",
     "text": [
      "\"\u0000\" \"\u0001\" \"\u0002\" \"\u0003\" \"\u0004\" \"\u0005\" \"\u0006\" \"\u0007\" \" \"\\t\" \"\\n\" \n",
      "\" \"\u000E\" \"\u000F\" \"\u0010\" \"\u0011\" \"\u0012\" \"\u0013\" \"\u0014\" \n",
      "\"\u0015\" \"\u0016\" \"\u0017\" \"\u0018\" \"\u0019\" \"\u001A\" \"\u001B\" \"\u001C\" \"\u001D\" \"\u001E\" \n",
      "\"\u001F\" \" \" \"!\" \"\"\" \"#\" \"$\" \"%\" \"&\" \"'\" \"(\" \n",
      "\")\" \"*\" \"+\" \",\" \"-\" \".\" \"/\" \"0\" \"1\" \"2\" \n",
      "\"3\" \"4\" \"5\" \"6\" \"7\" \"8\" \"9\" \":\" \";\" \"<\" \n",
      "\"=\" \">\" \"?\" \"@\" \"A\" \"B\" \"C\" \"D\" \"E\" \"F\" \n",
      "\"G\" \"H\" \"I\" \"J\" \"K\" \"L\" \"M\" \"N\" \"O\" \"P\" \n",
      "\"Q\" \"R\" \"S\" \"T\" \"U\" \"V\" \"W\" \"X\" \"Y\" \"Z\" \n",
      "\"[\" \"\\\" \"]\" \"^\" \"_\" \"`\" \"a\" \"b\" \"c\" \"d\" \n",
      "\"e\" \"f\" \"g\" \"h\" \"i\" \"j\" \"k\" \"l\" \"m\" \"n\" \n",
      "\"o\" \"p\" \"q\" \"r\" \"s\" \"t\" \"u\" \"v\" \"w\" \"x\" \n",
      "\"y\" \"z\" \"{\" \"|\" \"}\" \"~\" \"\" "
     ]
    }
   ],
   "execution_count": 113
  },
  {
   "metadata": {},
   "cell_type": "markdown",
   "source": [
    "The tokenizer will also provide masking mechanism. We will use `FlexAttention` interface to explore sparse masking later, see Section ??. To enable experiments down the line, we will add the possibility of masking out:\n",
    "\n",
    "1) Words, as defined by non-`[a-zA-Z0-9]` characters separation\n",
    "2) Sentences detected by NLTK.\n",
    "\n",
    "The motivation will be provided later, for now the important information is as follows:\n",
    "1. We denote non-`[a-zA-Z0-9]` as special tokens\n",
    "2. We divide the input tokens into \"segments\". Tokens can attend only within their own segments.\n",
    "3. Special tokens that serve as segment separators are grouped into their own segment (so any special can attend to every other special)\n",
    "4. The special token that follows the segment is an exception. It can attend to its segment and to the one segment before.\n",
    "\n",
    "For example, if we segment by sentences:\n",
    "`v`\n",
    "Where `<s1>` and `<s2>` are space characters with name, `<s1>` can attend to any token in `Oh fox!` and `<s2>` can attend to any character in `Why the long face?` and `<s1>`. At the same time, `f` in `Why the long face?` can only attend to `Why the long ` and `<s2>` to preserve causality.\n",
    "\n",
    "Last remarks: we will always add STX, Start-of-TeXt (`2`) token to the start of the sequence to serve as \"sink\" token, see StreamingLLM and other research on the significance of this token. Another special token is ETX, End-of-TeXt (`3`), will be added to the end of complete text (end of document)."
   ]
  },
  {
   "metadata": {
    "ExecuteTime": {
     "end_time": "2024-11-12T20:54:47.816401Z",
     "start_time": "2024-11-12T20:54:47.803327Z"
    }
   },
   "cell_type": "code",
   "source": [
    "IS_SPECIAL_REGEX = re.compile(r'[^a-zA-Z0-9]')\n",
    "\n",
    "class Tokenizer(Configurable):\n",
    "    def __init__(\n",
    "            self, \n",
    "            vocab_size: int = 128, \n",
    "            device: str = 'cpu', \n",
    "            segment: str | None = None,  # \"sentence\", \"word\" or \"sentence+word\"\n",
    "    ):\n",
    "        self.size = vocab_size\n",
    "        self.segment = segment if segment is not None else ''\n",
    "        \n",
    "        self.is_special = torch.tensor([\n",
    "            IS_SPECIAL_REGEX.match(f'{chr(o)}') is not None\n",
    "            for o in ords\n",
    "        ], dtype=torch.bool, device=device)\n",
    "        \n",
    "        self.tokenizer_sent = None\n",
    "        \n",
    "        self.segment_sent = False\n",
    "        self.segment_word = False\n",
    "        \n",
    "        self.unk_token = 0\n",
    "        self.bot_token = 2\n",
    "        self.eot_token = 3\n",
    "        self.sep_token = ord(' ')\n",
    "        \n",
    "        for segment_type in self.segment.split('+'):\n",
    "            if segment_type == 'sentence':\n",
    "                self.tokenizer_sent = PunktTokenizer('english')\n",
    "                self.segment_sent = True\n",
    "            if segment_type == 'word':\n",
    "                self.segment_word = True\n",
    "    \n",
    "    @property\n",
    "    def device(self):\n",
    "        return self.is_special.device\n",
    "    \n",
    "    def to(self, device: str):\n",
    "        self.is_special = self.is_special.to(device)\n",
    "        return self\n",
    "    \n",
    "    def to_config(self):\n",
    "        return {\n",
    "            'size': self.size,\n",
    "            'segment': self.segment,\n",
    "        }\n",
    "        \n",
    "    def encode(self, text: str, *, add_sink: bool = True) -> dict:\n",
    "        if self.segment_sent:\n",
    "            segments = self.tokenizer_sent.span_tokenize(text)\n",
    "        else:\n",
    "            segments = [(0, len(text))]\n",
    "        \n",
    "        tokens = list(map(ord, text))\n",
    "        \n",
    "        token_segments = []\n",
    "        segment_mask = []\n",
    "        segment_starts = []\n",
    "        \n",
    "        prev_segm = None\n",
    "        for segm in segments: \n",
    "            start, end = segm\n",
    "            \n",
    "            if prev_segm is None:\n",
    "                if add_sink:\n",
    "                    # add sink\n",
    "                    token_segments.append([self.bot_token])\n",
    "                    segment_mask.append([False])\n",
    "            elif prev_segm[1] == start:\n",
    "                # separate the sentences    \n",
    "                token_segments.append([self.sep_token])\n",
    "                segment_mask.append([False])\n",
    "            else:\n",
    "                prev_start, prev_end = prev_segm\n",
    "                \n",
    "                # everything between the sentences\n",
    "                token_segments.append(tokens[prev_end:start])\n",
    "                segment_mask.append([False] * (start - prev_end))\n",
    "            \n",
    "            token_segments.append(tokens[start:end])\n",
    "            segment_mask.append([True] * (end - start))\n",
    "            segment_starts.append(start)\n",
    "            prev_segm = segm\n",
    "        \n",
    "        final_s, final_e = prev_segm\n",
    "        if final_e != len(tokens):\n",
    "            token_segments.append(tokens[final_e:len(tokens)])\n",
    "            segment_mask.append([False] * (len(tokens) - final_e))\n",
    "            \n",
    "        all_tokens = chain.from_iterable(token_segments)\n",
    "        all_segment_mask = chain.from_iterable(segment_mask)\n",
    "        \n",
    "        tokens_torch = torch.tensor(list(all_tokens), device=self.device, dtype=torch.int)\n",
    "        tokens_torch[tokens_torch >= self.size] = self.unk_token\n",
    "        \n",
    "        return {\n",
    "            'tokens': tokens_torch,\n",
    "            'segment_mask': torch.tensor(list(all_segment_mask), device=self.device, dtype=torch.bool),\n",
    "            'specials_mask': self.is_special[tokens_torch],\n",
    "            'segment_starts': torch.tensor(segment_starts, device=self.device, dtype=torch.int),\n",
    "        }\n",
    "        \n",
    "    def decode(self, tokens: Iterable[int]) -> str:\n",
    "        # skip sink and pad tokens\n",
    "        return ''.join(chr(o) for o in tokens if o != self.bot_token)\n",
    "        \n",
    "\n",
    "IS_SPECIAL_REGEX.match(f'{chr(33)}'), chr(33), IS_SPECIAL_REGEX.match(f'{chr(49)}'), chr(49)"
   ],
   "outputs": [
    {
     "data": {
      "text/plain": [
       "(<re.Match object; span=(0, 1), match='!'>, '!', None, '1')"
      ]
     },
     "execution_count": 114,
     "metadata": {},
     "output_type": "execute_result"
    }
   ],
   "execution_count": 114
  },
  {
   "metadata": {
    "ExecuteTime": {
     "end_time": "2024-11-12T20:54:48.444354Z",
     "start_time": "2024-11-12T20:54:48.439557Z"
    }
   },
   "cell_type": "code",
   "source": "Tokenizer().is_special",
   "outputs": [
    {
     "data": {
      "text/plain": [
       "tensor([ True,  True,  True,  True,  True,  True,  True,  True,  True,  True,\n",
       "         True,  True,  True,  True,  True,  True,  True,  True,  True,  True,\n",
       "         True,  True,  True,  True,  True,  True,  True,  True,  True,  True,\n",
       "         True,  True,  True,  True,  True,  True,  True,  True,  True,  True,\n",
       "         True,  True,  True,  True,  True,  True,  True,  True, False, False,\n",
       "        False, False, False, False, False, False, False, False,  True,  True,\n",
       "         True,  True,  True,  True,  True, False, False, False, False, False,\n",
       "        False, False, False, False, False, False, False, False, False, False,\n",
       "        False, False, False, False, False, False, False, False, False, False,\n",
       "        False,  True,  True,  True,  True,  True,  True, False, False, False,\n",
       "        False, False, False, False, False, False, False, False, False, False,\n",
       "        False, False, False, False, False, False, False, False, False, False,\n",
       "        False, False, False,  True,  True,  True,  True,  True])"
      ]
     },
     "execution_count": 115,
     "metadata": {},
     "output_type": "execute_result"
    }
   ],
   "execution_count": 115
  },
  {
   "metadata": {
    "ExecuteTime": {
     "end_time": "2024-11-12T20:54:49.238376Z",
     "start_time": "2024-11-12T20:54:49.216741Z"
    }
   },
   "cell_type": "code",
   "source": "Tokenizer(segment='sentence').encode('I am a token. You are a token...........  So what?')",
   "outputs": [
    {
     "data": {
      "text/plain": [
       "{'tokens': tensor([  2,  73,  32,  97, 109,  32,  97,  32, 116, 111, 107, 101, 110,  46,\n",
       "          32,  89, 111, 117,  32,  97, 114, 101,  32,  97,  32, 116, 111, 107,\n",
       "         101, 110,  46,  46,  46,  46,  46,  46,  46,  46,  46,  46,  46,  32,\n",
       "          32,  83, 111,  32, 119, 104,  97, 116,  63], dtype=torch.int32),\n",
       " 'segment_mask': tensor([False,  True,  True,  True,  True,  True,  True,  True,  True,  True,\n",
       "          True,  True,  True,  True, False,  True,  True,  True,  True,  True,\n",
       "          True,  True,  True,  True,  True,  True,  True,  True,  True,  True,\n",
       "          True,  True,  True,  True,  True,  True,  True,  True,  True,  True,\n",
       "          True, False, False,  True,  True,  True,  True,  True,  True,  True,\n",
       "          True]),\n",
       " 'specials_mask': tensor([ True, False,  True, False, False,  True, False,  True, False, False,\n",
       "         False, False, False,  True,  True, False, False, False,  True, False,\n",
       "         False, False,  True, False,  True, False, False, False, False, False,\n",
       "          True,  True,  True,  True,  True,  True,  True,  True,  True,  True,\n",
       "          True,  True,  True, False, False,  True, False, False, False, False,\n",
       "          True]),\n",
       " 'segment_starts': tensor([ 0, 14, 42], dtype=torch.int32)}"
      ]
     },
     "execution_count": 116,
     "metadata": {},
     "output_type": "execute_result"
    }
   ],
   "execution_count": 116
  },
  {
   "metadata": {},
   "cell_type": "markdown",
   "source": "# Pretokenize the datasets"
  },
  {
   "metadata": {},
   "cell_type": "markdown",
   "source": "## Shakespear"
  },
  {
   "metadata": {
    "ExecuteTime": {
     "end_time": "2024-11-12T20:54:53.007911Z",
     "start_time": "2024-11-12T20:54:52.638536Z"
    }
   },
   "cell_type": "code",
   "source": [
    "download_url = 'https://raw.githubusercontent.com/karpathy/char-rnn/master/data/tinyshakespeare/input.txt'\n",
    "response = requests.get(download_url)\n",
    "\n",
    "file_path = 'tinyshakespeare_input.txt'\n",
    "with open(file_path, 'wb') as file:\n",
    "    file.write(response.content)"
   ],
   "outputs": [],
   "execution_count": 117
  },
  {
   "metadata": {
    "ExecuteTime": {
     "end_time": "2024-11-12T20:54:54.558291Z",
     "start_time": "2024-11-12T20:54:53.795988Z"
    }
   },
   "cell_type": "code",
   "source": [
    "with open(file_path, 'r') as file:\n",
    "    content = file.read()\n",
    "\n",
    "tokenizer = Tokenizer(segment='sentence')\n",
    "tokenized = tokenizer.encode(content, add_sink=False)"
   ],
   "outputs": [],
   "execution_count": 118
  },
  {
   "metadata": {
    "ExecuteTime": {
     "end_time": "2024-11-12T20:54:55.376978Z",
     "start_time": "2024-11-12T20:54:55.371174Z"
    }
   },
   "cell_type": "code",
   "source": [
    "data_path = Path('data')\n",
    "data_path.mkdir(exist_ok=True)\n",
    "\n",
    "path = data_path / 'tinyshakespeare'\n",
    "path.mkdir(exist_ok=True)\n",
    "\n",
    "np_tokens = tokenized['tokens'].numpy().astype(np.uint8)\n",
    "np_segment_mask = tokenized['segment_mask'].numpy().astype(bool)\n",
    "np_special_mask = tokenized['specials_mask'].numpy().astype(bool)\n",
    "np_segment_starts = tokenized['segment_starts'].numpy().astype(int)\n",
    "\n",
    "len(np_tokens)"
   ],
   "outputs": [
    {
     "data": {
      "text/plain": [
       "1115394"
      ]
     },
     "execution_count": 119,
     "metadata": {},
     "output_type": "execute_result"
    }
   ],
   "execution_count": 119
  },
  {
   "metadata": {
    "ExecuteTime": {
     "end_time": "2024-11-12T20:54:56.582247Z",
     "start_time": "2024-11-12T20:54:56.577368Z"
    }
   },
   "cell_type": "code",
   "source": [
    "n_sent = len(np_segment_starts)\n",
    "n_train_sent = int(n_sent * 0.95)\n",
    "n_val_sent = n_sent - n_train_sent\n",
    "n_train_sent, n_val_sent"
   ],
   "outputs": [
    {
     "data": {
      "text/plain": [
       "(11837, 623)"
      ]
     },
     "execution_count": 120,
     "metadata": {},
     "output_type": "execute_result"
    }
   ],
   "execution_count": 120
  },
  {
   "metadata": {
    "ExecuteTime": {
     "end_time": "2024-11-12T20:54:57.256300Z",
     "start_time": "2024-11-12T20:54:57.249044Z"
    }
   },
   "cell_type": "code",
   "source": [
    "np_segment_ends = np.roll(np_segment_starts, -1)\n",
    "np_segment_ends[-1] = len(np_tokens)\n",
    "segm_len = np_segment_ends - np_segment_starts\n",
    "\n",
    "n_train_tokens = int(segm_len[:n_train_sent].sum())\n",
    "n_val_tokens = len(np_tokens) - n_train_tokens\n",
    "n_train_tokens, n_val_tokens"
   ],
   "outputs": [
    {
     "data": {
      "text/plain": [
       "(1070080, 45314)"
      ]
     },
     "execution_count": 121,
     "metadata": {},
     "output_type": "execute_result"
    }
   ],
   "execution_count": 121
  },
  {
   "metadata": {
    "ExecuteTime": {
     "end_time": "2024-11-12T20:54:57.945515Z",
     "start_time": "2024-11-12T20:54:57.934078Z"
    }
   },
   "cell_type": "code",
   "source": [
    "train_token_mask = torch.concat([\n",
    "    torch.ones(n_train_tokens, dtype=torch.bool), \n",
    "    torch.zeros(n_val_tokens, dtype=torch.bool)\n",
    "])\n",
    "val_token_mask = ~train_token_mask\n",
    "\n",
    "train_sent_mask = torch.concat([\n",
    "    torch.ones(n_train_sent, dtype=torch.bool), \n",
    "    torch.zeros(n_val_sent, dtype=torch.bool)\n",
    "])\n",
    "val_sent_mask = ~train_sent_mask\n",
    "\n",
    "np_tokens_train = np_tokens[train_token_mask]\n",
    "np_segment_mask_train = np_segment_mask[train_token_mask]\n",
    "np_special_mask_train = np_special_mask[train_token_mask]\n",
    "np_segment_starts_train = np_segment_starts[train_sent_mask]\n",
    "\n",
    "np_tokens_val = np_tokens[val_token_mask]\n",
    "np_segment_mask_val = np_segment_mask[val_token_mask]\n",
    "np_special_mask_val = np_special_mask[val_token_mask]\n",
    "np_segment_starts_val = np_segment_starts[val_sent_mask]"
   ],
   "outputs": [],
   "execution_count": 122
  },
  {
   "metadata": {
    "ExecuteTime": {
     "end_time": "2024-11-12T20:54:58.680383Z",
     "start_time": "2024-11-12T20:54:58.673836Z"
    }
   },
   "cell_type": "code",
   "source": [
    "train_path = path / 'train'\n",
    "train_path.mkdir(exist_ok=True)\n",
    "\n",
    "np.save(train_path / 'tokens.npy', np_tokens_train)\n",
    "np.save(train_path / 'segment_mask.npy', np_segment_mask_train)\n",
    "np.save(train_path / 'special_mask.npy', np_special_mask_train)\n",
    "np.save(train_path / 'segment_starts.npy', np_segment_starts_train)"
   ],
   "outputs": [],
   "execution_count": 123
  },
  {
   "metadata": {
    "ExecuteTime": {
     "end_time": "2024-11-12T20:54:59.224149Z",
     "start_time": "2024-11-12T20:54:59.202687Z"
    }
   },
   "cell_type": "code",
   "source": [
    "val_path = path / 'val'\n",
    "val_path.mkdir(exist_ok=True)\n",
    "\n",
    "np.save(val_path / 'tokens.npy', np_tokens_val)\n",
    "np.save(val_path / 'segment_mask.npy', np_segment_mask_val)\n",
    "np.save(val_path / 'special_mask.npy', np_special_mask_val)\n",
    "np.save(val_path / 'segment_starts.npy', np_segment_starts_val)"
   ],
   "outputs": [],
   "execution_count": 124
  },
  {
   "metadata": {},
   "cell_type": "markdown",
   "source": "## FineWeb Edu"
  },
  {
   "metadata": {
    "ExecuteTime": {
     "end_time": "2024-11-12T20:55:00.832941Z",
     "start_time": "2024-11-12T20:55:00.830351Z"
    }
   },
   "cell_type": "code",
   "source": "# TODO",
   "outputs": [],
   "execution_count": 125
  },
  {
   "metadata": {},
   "cell_type": "markdown",
   "source": "## Pretokenized dataset loader"
  },
  {
   "metadata": {
    "ExecuteTime": {
     "end_time": "2024-11-12T20:55:01.685044Z",
     "start_time": "2024-11-12T20:55:01.668206Z"
    }
   },
   "cell_type": "code",
   "source": [
    "class Dataset(torch.utils.data.Dataset):\n",
    "    def __init__(self, path: str | Path, *, start_token: int, target_length: int):\n",
    "        path = Path(path)\n",
    "        assert path.exists() and path.is_dir()\n",
    "        \n",
    "        tokens_path = path / 'tokens.npy'\n",
    "        segment_mask = path / 'segment_mask.npy'\n",
    "        special_mask = path / 'special_mask.npy'\n",
    "        segment_starts = path / 'segment_starts.npy'\n",
    "        \n",
    "        self.start_token = start_token\n",
    "        self.target_length = target_length\n",
    "        \n",
    "        self.tokens = np.memmap(tokens_path, dtype=np.uint8, mode='r')\n",
    "        self.segment_mask = np.memmap(segment_mask, dtype=np.uint8, mode='r')\n",
    "        self.special_mask = np.memmap(special_mask, dtype=np.uint8, mode='r')\n",
    "        self.segment_starts = np.load(segment_starts)\n",
    "        \n",
    "    def __len__(self):\n",
    "        return len(self.segment_starts)\n",
    "    \n",
    "    def __getitem__(self, idx):\n",
    "        start_idx = self.segment_starts[idx]\n",
    "        end_idx = start_idx + self.target_length - 1  # reserve one token for start_token\n",
    "        \n",
    "        tokens = torch.tensor(self.tokens[start_idx:end_idx].astype(int))\n",
    "        segment_mask = torch.tensor(self.segment_mask[start_idx:end_idx])\n",
    "        special_mask = torch.tensor(self.special_mask[start_idx:end_idx])\n",
    "        \n",
    "        return {\n",
    "            'tokens': torch.concatenate([torch.tensor([self.start_token]), tokens]),\n",
    "            'segment_mask': torch.concatenate([torch.tensor([False]), segment_mask]),\n",
    "            'special_mask': torch.concatenate([torch.tensor([True]), special_mask])\n",
    "        }\n",
    "        \n",
    "Dataset('data/tinyshakespeare/train', start_token=2, target_length=10)[100]"
   ],
   "outputs": [
    {
     "data": {
      "text/plain": [
       "{'tokens': tensor([  2, 100,  32, 109,  97, 107, 101,  32,  98, 111]),\n",
       " 'segment_mask': tensor([0, 1, 1, 1, 1, 1, 1, 1, 1, 1], dtype=torch.uint8),\n",
       " 'special_mask': tensor([1, 0, 1, 0, 0, 0, 0, 1, 0, 0], dtype=torch.uint8)}"
      ]
     },
     "execution_count": 126,
     "metadata": {},
     "output_type": "execute_result"
    }
   ],
   "execution_count": 126
  },
  {
   "metadata": {},
   "cell_type": "markdown",
   "source": "# FlexAttention masking and Collator"
  },
  {
   "metadata": {
    "ExecuteTime": {
     "end_time": "2024-11-12T16:58:51.587467Z",
     "start_time": "2024-11-12T16:58:51.581659Z"
    }
   },
   "cell_type": "code",
   "source": [
    "def calculate_intervals(boundary_mask):\n",
    "    # Find cumulative sum of the gaps to identify different intervals\n",
    "    interval_idx = torch.cumsum(boundary_mask, dim=-1) + 1\n",
    "    shifted = interval_idx.roll(1)\n",
    "    shifted[:, 0] = interval_idx[:, 0]\n",
    "    \n",
    "    return shifted\n",
    "\n",
    "\n",
    "def get_interval_block_mask(interval_mask, *, max_distance: int = 0):\n",
    "    boundary_mask = ~interval_mask\n",
    "    interval_idx = calculate_intervals(boundary_mask)\n",
    "    \n",
    "    def interval_block_mask(b, h, q_idx, kv_idx):\n",
    "        # can only attend to tokens in the same interval\n",
    "        # or boundaries between intervals\n",
    "        return (\n",
    "                boundary_mask[b, kv_idx] \n",
    "                | (q_idx - kv_idx < max_distance) \n",
    "                | (interval_idx[b, q_idx] == interval_idx[b, kv_idx])\n",
    "        )\n",
    "    \n",
    "    return interval_block_mask\n",
    "\n",
    "\n",
    "def get_padding_block_mask(tokens, *, padding_token):\n",
    "    \n",
    "    def padding_block_mask(b, h, q_idx, kv_idx):\n",
    "        # nothing can attend to padding tokens and padding tokens cannot attend to anything\n",
    "        return (tokens[b, kv_idx] != padding_token) & (tokens[b, q_idx] != padding_token)\n",
    "    \n",
    "    return padding_block_mask\n",
    "\n",
    "\n",
    "def causal_block_mask(b, h, q_idx, kv_idx):\n",
    "    # can only attend to past tokens and self\n",
    "    return q_idx >= kv_idx\n",
    "\n",
    "\n",
    "class Collator:\n",
    "    def __init__(\n",
    "            self, \n",
    "            padding_token: int, \n",
    "            mask_words: bool = False, \n",
    "            mask_segments: bool = False\n",
    "    ):\n",
    "        self.padding_token = padding_token\n",
    "        self.mask_words = mask_words\n",
    "        self.mask_segments = mask_segments\n",
    "    \n",
    "    def __call__(self, batch):\n",
    "        masks = [causal_block_mask]\n",
    "        \n",
    "        # Extract each element type in the batch\n",
    "        tokens = [item['tokens'] for item in batch]\n",
    "        \n",
    "        if self.mask_segments:\n",
    "            segment_mask = [item['segment_mask'] for item in batch]\n",
    "            segment_mask_padded = pad_sequence(segment_mask, batch_first=True, padding_value=0)\n",
    "            masks.append(get_interval_block_mask(segment_mask_padded))\n",
    "        \n",
    "        if self.mask_words:\n",
    "            specials_mask = [item['specials_mask'] for item in batch]\n",
    "            specials_mask_padded = pad_sequence(specials_mask, batch_first=True, padding_value=0)\n",
    "            masks.append(get_interval_block_mask(~specials_mask_padded))\n",
    "        \n",
    "        # Pad tokens with the specified padding token index\n",
    "        tokens_padded = pad_sequence(tokens, batch_first=True, padding_value=self.padding_token)\n",
    "        masks.append(get_padding_block_mask(tokens, padding_token=self.padding_token))\n",
    "        \n",
    "        # Determine batch and sequence dimensions\n",
    "        batch_size, seq_length = tokens_padded.size()\n",
    "        \n",
    "        # Create causal block mask using FlexAttention's create_block_mask function\n",
    "        block_mask = create_block_mask(\n",
    "            mask_mod=and_masks(masks),  # Causal mask function\n",
    "            B=batch_size,\n",
    "            H=1,                        # Number of heads; adjust if using multi-head attention\n",
    "            Q_LEN=seq_length,\n",
    "            KV_LEN=seq_length,\n",
    "            device=tokens_padded.device\n",
    "        )\n",
    "        \n",
    "        # Create final batch dictionary\n",
    "        batch_dict = {\n",
    "            'tokens': tokens_padded,\n",
    "            'block_mask': block_mask    # Add block mask to the batch\n",
    "        }\n",
    "        \n",
    "        return batch_dict\n"
   ],
   "outputs": [],
   "execution_count": 52
  },
  {
   "metadata": {
    "ExecuteTime": {
     "end_time": "2024-11-12T20:55:56.517359Z",
     "start_time": "2024-11-12T20:55:51.649339Z"
    }
   },
   "cell_type": "code",
   "source": [
    "def visualize_mask(mask, text, title=\"\"):\n",
    "    plt.figure(figsize=(10, 10))\n",
    "    ax = sns.heatmap(\n",
    "        mask.numpy(), \n",
    "        cmap=\"Blues\", \n",
    "        cbar=False, \n",
    "        annot=False, \n",
    "        xticklabels=[c for c in [' ', *text]], \n",
    "        yticklabels=[c for c in [' ', *text]],\n",
    "    )\n",
    "    plt.yticks(rotation=270)\n",
    "    plt.xticks(rotation=0)\n",
    "    plt.title(title)\n",
    "    plt.xlabel(\"Key Tokens\")\n",
    "    plt.ylabel(\"Query Tokens\")\n",
    "    plt.show()\n",
    "    \n",
    "    \n",
    "text = \"Oh fox! Why the long face? - To bite you! - Oh no, please don't bite me, I beg you please! - Ok\"\n",
    "\n",
    "# visualize different combinations of masks\n",
    "# 1) only causal\n",
    "# 2) with word masking\n",
    "# 3) with segment masking\n",
    "# 4) with both word and segment masking\n",
    "tokenizer_simple = Tokenizer()\n",
    "tokenizer_sentence = Tokenizer(segment='sentence')\n",
    "\n",
    "tokens = tokenizer_simple.encode(text)['tokens'].unsqueeze(0)\n",
    "segment_mask_word = ~tokenizer_simple.encode(text)['specials_mask'].unsqueeze(0)\n",
    "segment_mask_sentence = tokenizer_sentence.encode(text)['segment_mask'].unsqueeze(0)\n",
    "seq_length = len(tokens[0])\n",
    "\n",
    "# 1) Only causal mask\n",
    "block_mask_causal = torch.zeros((seq_length, seq_length), dtype=torch.bool)\n",
    "for q in range(seq_length):\n",
    "    for kv in range(seq_length):\n",
    "        block_mask_causal[q, kv] = causal_block_mask(0, 0, q, kv)\n",
    "visualize_mask(block_mask_causal, text, title=\"Only Causal Mask\")\n",
    "\n",
    "# 2) Causal + Word Mask\n",
    "interval_mask_word = get_interval_block_mask(segment_mask_word)\n",
    "block_mask_word = torch.zeros((seq_length, seq_length), dtype=torch.bool)\n",
    "for q in range(seq_length):\n",
    "    for kv in range(seq_length):\n",
    "        causal = causal_block_mask(0, 0, q, kv)\n",
    "        interval = interval_mask_word(0, 0, q, kv)\n",
    "        block_mask_word[q, kv] = causal & interval\n",
    "visualize_mask(block_mask_word, text, title=\"Causal + Word Mask\")\n",
    "\n",
    "# 2) Causal + Word Mask + Segment\n",
    "interval_mask_segment = get_interval_block_mask(segment_mask_sentence)\n",
    "block_mask_word = torch.zeros((seq_length, seq_length), dtype=torch.bool)\n",
    "for q in range(seq_length):\n",
    "    for kv in range(seq_length):\n",
    "        causal = causal_block_mask(0, 0, q, kv)\n",
    "        interval = interval_mask_word(0, 0, q, kv)\n",
    "        segment = interval_mask_segment(0, 0, q, kv)\n",
    "        block_mask_word[q, kv] = causal & interval & segment\n",
    "visualize_mask(block_mask_word, text, title=\"Causal + Word Mask + Segment\")\n",
    "\n",
    "# 2) Causal + Word Mask + Segment with max distance cutoff\n",
    "interval_mask_word = get_interval_block_mask(segment_mask_word, max_distance=5)\n",
    "interval_mask_segment = get_interval_block_mask(segment_mask_sentence, max_distance=10)\n",
    "block_mask_word = torch.zeros((seq_length, seq_length), dtype=torch.bool)\n",
    "for q in range(seq_length):\n",
    "    for kv in range(seq_length):\n",
    "        causal = causal_block_mask(0, 0, q, kv)\n",
    "        interval = interval_mask_word(0, 0, q, kv)\n",
    "        segment = interval_mask_segment(0, 0, q, kv)\n",
    "        block_mask_word[q, kv] = causal & interval & segment\n",
    "visualize_mask(block_mask_word, text, title=\"Causal + Word Mask (md 5) + Segment (md 10) with max distance cutoff (md)\")"
   ],
   "outputs": [
    {
     "data": {
      "text/plain": [
       "<Figure size 1000x1000 with 1 Axes>"
      ],
      "image/png": "[encoded data removed]"
     },
     "metadata": {},
     "output_type": "display_data"
    },
    {
     "data": {
      "text/plain": [
       "<Figure size 1000x1000 with 1 Axes>"
      ],
      "image/png": "[encoded data removed]"
     },
     "metadata": {},
     "output_type": "display_data"
    },
    {
     "data": {
      "text/plain": [
       "<Figure size 1000x1000 with 1 Axes>"
      ],
      "image/png": "[encoded data removed]"
     },
     "metadata": {},
     "output_type": "display_data"
    },
    {
     "data": {
      "text/plain": [
       "<Figure size 1000x1000 with 1 Axes>"
      ],
      "image/png": "[encoded data removed]"
     },
     "metadata": {},
     "output_type": "display_data"
    }
   ],
   "execution_count": 127
  },
  {
   "metadata": {},
   "cell_type": "markdown",
   "source": "# Performance comparison depending on the sparsity level (H100 GPU, Shakespear texts)"
  },
  {
   "metadata": {},
   "cell_type": "markdown",
   "source": "By length"
  },
  {
   "metadata": {
    "ExecuteTime": {
     "end_time": "2024-11-12T21:14:24.619356Z",
     "start_time": "2024-11-12T21:14:24.609999Z"
    }
   },
   "cell_type": "code",
   "source": [
    "n_trials = 100\n",
    "hidden_dim = 1024\n",
    "emb = nn.Embedding(128, 1024)"
   ],
   "outputs": [],
   "execution_count": 130
  },
  {
   "metadata": {},
   "cell_type": "code",
   "outputs": [],
   "execution_count": null,
   "source": [
    "min_len_log2 = 4\n",
    "max_len_log2 = 50\n",
    "\n",
    "for length_log2 in tqdm(range(min_len_log2, max_len_log2), total=max_len_log2 - min_len_log2):\n",
    "    length = 2**length_log2\n",
    "    dataset = Dataset('data/tinyshakespeare/train', start_token=2, target_length=length)\n",
    "    loader = DataLoader(dataset, batch_size=128, shuffle=True, num_workers=8)\n",
    "    \n",
    "    batches = [next(loader) for _ in range(n_trials)]\n",
    "    flex_attention()"
   ]
  },
  {
   "metadata": {},
   "cell_type": "markdown",
   "source": [
    "# Model\n",
    "\n",
    "Llama-like architecture without GQA."
   ]
  },
  {
   "metadata": {
    "ExecuteTime": {
     "end_time": "2024-11-12T16:16:12.970238Z",
     "start_time": "2024-11-12T16:16:12.968168Z"
    }
   },
   "cell_type": "code",
   "source": [
    "class LLM(nn.Module):\n",
    "    pass"
   ],
   "outputs": [],
   "execution_count": 10
  },
  {
   "metadata": {},
   "cell_type": "markdown",
   "source": "# Training"
  },
  {
   "cell_type": "code",
   "source": [
    "from torch.utils.data import Dataset\n",
    "\n",
    "class CharDataset(Dataset):\n",
    "    \"\"\"\n",
    "    Emits batches of characters.\n",
    "\n",
    "    Adapted from \"https://github.com/karpathy/minGPT\".\n",
    "    \"\"\"\n",
    "\n",
    "    def __init__(self, config, data):\n",
    "\n",
    "        chars = ... # get characters from the input data\n",
    "        self.stoi = { ch:i for i,ch in enumerate(chars) } # map characters to integer indices\n",
    "\n",
    "        ...\n",
    "\n",
    "    def get_vocab_size(self):\n",
    "        raise NotImplementedError()\n",
    "\n",
    "    def __len__(self):\n",
    "        raise NotImplementedError()\n",
    "\n",
    "    def __getitem__(self, idx):\n",
    "        # grab a chunk of (block_size + 1) characters from the data\n",
    "        # encode every character to an integer\n",
    "        # return the chunk and the shifted version as tensors\n",
    "        pass"
   ],
   "metadata": {
    "id": "dZdSRWPmgt-H"
   },
   "execution_count": null,
   "outputs": []
  },
  {
   "metadata": {},
   "cell_type": "code",
   "outputs": [],
   "execution_count": null,
   "source": [
    "def train(model, dataset, **kwargs):\n",
    "    pass"
   ]
  },
  {
   "metadata": {},
   "cell_type": "code",
   "outputs": [],
   "execution_count": null,
   "source": ""
  }
 ]
}
